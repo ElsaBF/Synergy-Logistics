{
 "cells": [
  {
   "cell_type": "markdown",
   "metadata": {},
   "source": [
    "Proyecto 2. Introducción al análisis de datos"
   ]
  },
  {
   "cell_type": "code",
   "execution_count": 1,
   "metadata": {},
   "outputs": [],
   "source": [
    "# El primer paso es importar la librería \"pandas\" para el análisis de datos\n",
    "import pandas as pd "
   ]
  },
  {
   "cell_type": "code",
   "execution_count": 2,
   "metadata": {},
   "outputs": [],
   "source": [
    "# Abrimos el archivo CSV en modo lectura\n",
    "sldb = pd.read_csv(\"synergy_logistics_database.csv\")"
   ]
  },
  {
   "cell_type": "code",
   "execution_count": 3,
   "metadata": {},
   "outputs": [],
   "source": [
    "importaciones = sldb[ sldb[\"direction\"] == \"Imports\"]\n",
    "exportaciones = sldb[ sldb[\"direction\"] == \"Exports\"]  "
   ]
  },
  {
   "cell_type": "code",
   "execution_count": 4,
   "metadata": {},
   "outputs": [
    {
     "data": {
      "text/plain": [
       "origin\n",
       "China                   12233000000\n",
       "Japan                    8094000000\n",
       "USA                      5291000000\n",
       "Mexico                   4621000000\n",
       "Germany                  4250000000\n",
       "Singapore                4017000000\n",
       "South Korea              3889000000\n",
       "Malaysia                 3560000000\n",
       "Spain                    3001000000\n",
       "France                   1316000000\n",
       "Italy                    1268000000\n",
       "Australia                 920000000\n",
       "Russia                    851000000\n",
       "Canada                    569000000\n",
       "Vietnam                   540000000\n",
       "Brazil                    489000000\n",
       "United Arab Emirates      371000000\n",
       "United Kingdom            248000000\n",
       "Name: total_value, dtype: int64"
      ]
     },
     "execution_count": 4,
     "metadata": {},
     "output_type": "execute_result"
    }
   ],
   "source": [
    "prob3 = importaciones.groupby(\"origin\").sum()[\"total_value\"].sort_values(ascending=False)\n",
    "prob3"
   ]
  }
 ],
 "metadata": {
  "interpreter": {
   "hash": "1a244c2ee65a26931d74777612a57f1976789c49f1d475b5cc2360e699ccb534"
  },
  "kernelspec": {
   "display_name": "Python 3.9.7 ('base')",
   "language": "python",
   "name": "python3"
  },
  "language_info": {
   "codemirror_mode": {
    "name": "ipython",
    "version": 3
   },
   "file_extension": ".py",
   "mimetype": "text/x-python",
   "name": "python",
   "nbconvert_exporter": "python",
   "pygments_lexer": "ipython3",
   "version": "3.9.7"
  },
  "orig_nbformat": 4
 },
 "nbformat": 4,
 "nbformat_minor": 2
}
