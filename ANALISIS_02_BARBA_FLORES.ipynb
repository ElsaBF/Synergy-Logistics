{
 "cells": [
  {
   "cell_type": "markdown",
   "metadata": {},
   "source": [
    "Proyecto 2. Introducción al análisis de datos\n",
    "Elsa Ximena Barba Flores"
   ]
  },
  {
   "cell_type": "code",
   "execution_count": 1,
   "metadata": {},
   "outputs": [],
   "source": [
    "# Comenzamos importando la librería Pandas para análisis de datos y Seaborn para graficar\n",
    "import pandas as pd\n",
    "import seaborn as sns\n",
    "import matplotlib.pyplot as plt"
   ]
  },
  {
   "cell_type": "code",
   "execution_count": 2,
   "metadata": {},
   "outputs": [],
   "source": [
    "# Como una buena práctica se define una variable con el nombre del archivo CSV\n",
    "synergy_db = \"synergy_logistics_database.csv\""
   ]
  },
  {
   "cell_type": "code",
   "execution_count": 3,
   "metadata": {},
   "outputs": [],
   "source": [
    "# Abrimos el archivo CSV en modo lectura\n",
    "sldf = pd.read_csv(synergy_db, parse_dates=[5])\n"
   ]
  },
  {
   "cell_type": "code",
   "execution_count": 4,
   "metadata": {},
   "outputs": [],
   "source": [
    "# Comenzamos creando un dataframe para las importaciones y otro para las exportaciones\n",
    "importaciones = sldf[ sldf[\"direction\"] == \"Imports\"]\n",
    "exportaciones = sldf[ sldf[\"direction\"] == \"Exports\"]"
   ]
  },
  {
   "cell_type": "markdown",
   "metadata": {},
   "source": [
    "Opción 1: Rutas de importación y exportación.\n",
    "\n",
    "Synergy Logistics quiere saber cuáles son las diez rutas más demandadas. Para resolver esto primero hay que tener en cuénta ¿Qué es lo que consideramos como ruta? Para definir una ruta es necesario tomar en cuenta el origen y el destino (no es lo mismo una ruta de China a Japón que de Japón a China) y el medio de transporte (no es lo mismo ir de México a Estados Unidos por tierra que por mar). Se consideran por separado los productos que son de importación de los de exportación."
   ]
  },
  {
   "cell_type": "code",
   "execution_count": null,
   "metadata": {},
   "outputs": [],
   "source": [
    "# Utilizamos el método \"groupby\" para delimitar qué columnas de la variable dataframe queremos reacomodar\n",
    "# El argumento \"by\" nos permite delimitar cuáles columnas queremos obtener como índices.\n",
    "rutas = sldf.groupby(by=['direction', 'origin', 'destination', 'transport_mode'])\n",
    "#rutas.sum()"
   ]
  },
  {
   "cell_type": "code",
   "execution_count": null,
   "metadata": {},
   "outputs": [],
   "source": [
    "# Sumamos los valores de la columna \"total_value\"\n",
    "suma = rutas.sum()['total_value']\n",
    "# Agregamos estadísticas descriptivas a la columna \"total_value\" de la variable \"rutas\"\n",
    "rutas = rutas['total_value'].describe()\n",
    "# Añadimos la columna con la suma total\n",
    "rutas['suma_total'] = suma\n",
    "rutas = rutas.reset_index()\n",
    "#rutas"
   ]
  },
  {
   "cell_type": "markdown",
   "metadata": {},
   "source": [
    "Ahora disponemos de un dataframe que contiene columnas (índices) que nos indican si se trata de una importación o una exportación, el país de origen, destino, medio de transporte, cantidad de veces que se realizó la ruta y la suma total de los valores generados por cada ruta.\n",
    "\n",
    "Con estos datos, hacemos el análisis para las diez rutas de exportación y las diez rutas de importación más demandadas"
   ]
  },
  {
   "cell_type": "code",
   "execution_count": null,
   "metadata": {},
   "outputs": [],
   "source": [
    "# Creamos dos df separados, uno que contenga solo las importaciones y uno que contenga solamente exportaciones\n",
    "exportaciones = rutas[rutas['direction'] == 'Exports']\n",
    "#exportaciones\n",
    "importaciones = rutas[rutas['direction'] == 'Imports']\n",
    "#importaciones"
   ]
  },
  {
   "cell_type": "code",
   "execution_count": null,
   "metadata": {},
   "outputs": [],
   "source": [
    "# Obtenemos un número entero que sea la suma de todos los valores de exportación\n",
    "# Y otro que contenga la suma de todos los valores de importación\n",
    "valor_total_exp = exportaciones.suma_total.sum()\n",
    "#valor_total_exp\n",
    "valor_total_imp = importaciones.suma_total.sum()"
   ]
  },
  {
   "cell_type": "code",
   "execution_count": null,
   "metadata": {},
   "outputs": [],
   "source": [
    "# Creación de una función con argumentos dataframe y un mensaje\n",
    "def resultados(df, m):\n",
    "    total_valor = df.suma_total.sum()\n",
    "    total_usos = df['count'].sum()\n",
    "    porcentaje = (total_valor / valor_total_exp)*10000\n",
    "    porcentaje = int(porcentaje) / 100\n",
    "    print(f'Las 10 rutas {m} aportan {porcentaje}%, en un total de: {total_usos} servicios')"
   ]
  },
  {
   "cell_type": "markdown",
   "metadata": {},
   "source": [
    "Mostrando las diez rutas de exportación más demandadas"
   ]
  },
  {
   "cell_type": "code",
   "execution_count": null,
   "metadata": {},
   "outputs": [],
   "source": [
    "mas_demandadas_exp = exportaciones.sort_values(by='count', ascending=False).head(10)\n",
    "mas_demandadas_exp = mas_demandadas_exp.reset_index()\n",
    "mayor_valor_exp = exportaciones.sort_values(by='suma_total', ascending=False).head(10)\n",
    "mayor_valor_exp = mayor_valor_exp.reset_index()\n",
    "#mas_demandadas_exp\n",
    "#mayor_valor_exp"
   ]
  },
  {
   "cell_type": "code",
   "execution_count": null,
   "metadata": {},
   "outputs": [],
   "source": [
    "resultados(mas_demandadas_exp, 'mas demandadas')\n",
    "resultados(mayor_valor_exp, 'con mayor valor')"
   ]
  },
  {
   "cell_type": "markdown",
   "metadata": {},
   "source": [
    "Hacemos el análisis para las diez rutas de importación más demandadas"
   ]
  },
  {
   "cell_type": "code",
   "execution_count": null,
   "metadata": {},
   "outputs": [],
   "source": [
    "mas_demandadas_imp = importaciones.sort_values(by='count', ascending=False).head(10)\n",
    "mas_demandadas_imp = mas_demandadas_imp.reset_index()\n",
    "mayor_valor_imp = importaciones.sort_values(by='suma_total', ascending=False).head(10)\n",
    "mayor_valor_imp = mayor_valor_imp.reset_index()\n",
    "#mas_demandadas_imp\n",
    "#mayor_valor_imp"
   ]
  },
  {
   "cell_type": "code",
   "execution_count": null,
   "metadata": {},
   "outputs": [],
   "source": [
    "resultados(mas_demandadas_imp, 'mas demandadas')\n",
    "resultados(mayor_valor_imp, 'con mayor valor')"
   ]
  },
  {
   "cell_type": "markdown",
   "metadata": {},
   "source": [
    "Opción 2: Medio de transporte utilizado\n",
    "\n",
    "Synergy Logistics espera que realicemos un análisis que muestre los tres medios de transporte más importantes para las rutas de importación y exportación tomando en cuenta los valores que cada una genera.\n",
    "\n",
    "A primera instancia podemos pre visualizar cuáles son las rutas más importantes haciendo un gráfico de barras que muestre las insidencias. "
   ]
  },
  {
   "cell_type": "code",
   "execution_count": null,
   "metadata": {},
   "outputs": [],
   "source": [
    "ax = sns.countplot(x='transport_mode', data=sldf, hue=\"direction\")"
   ]
  },
  {
   "cell_type": "markdown",
   "metadata": {},
   "source": [
    "Del grafico superior es fácil visualizar que, tanto para exportaciones como para importaciones, los medios de transporte más utilizados son por mar, por riel y por carretera.\n",
    "Ahora sigue hacer un análisis tomando en cuenta los valores de las ganancias, para facilitar la visualización realizamos un análisis anual."
   ]
  },
  {
   "cell_type": "code",
   "execution_count": null,
   "metadata": {},
   "outputs": [],
   "source": [
    "#Obtenemos un dataframe agrupando por año y medio de transporte\n",
    "transportes_anuales = sldf.groupby(by=['year', 'transport_mode'])\n",
    "# Creamos una lista en la que tengamos como índices los años y los medios de transporte\n",
    "#además sumamos los valores obtenidos para cada uno de ellos\n",
    "valor_anual_transporte = transportes_anuales['total_value'].agg(pd.Series.sum)\n",
    "valor_anual_transporte"
   ]
  },
  {
   "cell_type": "code",
   "execution_count": null,
   "metadata": {},
   "outputs": [],
   "source": [
    "# Creamos una nueva variable dataframe\n",
    "info_transp_anual = pd.DataFrame()\n",
    "# Guardamos la serie \"valor_anual_transporte\" en el dataframe\n",
    "info_transp_anual['valor_total'] = valor_anual_transporte\n",
    "# Añadimos una columna de frecuencia que cuenta la cantidad de incidencias\n",
    "info_transp_anual['frecuencia'] = transportes_anuales['total_value'].describe()['count']\n",
    "info_transp_anual"
   ]
  },
  {
   "cell_type": "markdown",
   "metadata": {},
   "source": [
    "Ahora mostramos un gráfico de los años contra la frecuencia con la que se se utilizaron los distintos transportes contra el paso de los años."
   ]
  },
  {
   "cell_type": "code",
   "execution_count": null,
   "metadata": {},
   "outputs": [],
   "source": [
    "sns.lineplot(x='year', y='frecuencia', hue='transport_mode', data=info_transp_anual)"
   ]
  },
  {
   "cell_type": "markdown",
   "metadata": {},
   "source": [
    "A continuación se grafica el valor de las importaciones y exportaciones realizadas contra el paso de los años."
   ]
  },
  {
   "cell_type": "code",
   "execution_count": null,
   "metadata": {},
   "outputs": [],
   "source": [
    "sns.lineplot(x='year', y='valor_total', hue='transport_mode', data=info_transp_anual)"
   ]
  },
  {
   "cell_type": "markdown",
   "metadata": {},
   "source": [
    "Opción 3: Valor total de importaciones y exportaciones\n",
    "\n",
    "Synergy Logistics desea enfocarse en los países que generan el 80% de sus ganancias en importaciones y exportaciones.\n"
   ]
  },
  {
   "cell_type": "code",
   "execution_count": null,
   "metadata": {},
   "outputs": [],
   "source": [
    "impo_origen = importaciones.groupby(\"origin\").sum()[\"total_value\"].sort_values(ascending=False)\n",
    "impo_destino = importaciones.groupby(\"destination\").sum()[\"total_value\"].sort_values(ascending=False)\n",
    "\n",
    "expo_origen = exportaciones.groupby(\"origin\").sum()[\"total_value\"].sort_values(ascending=False)\n",
    "expo_destino = exportaciones.groupby(\"destination\").sum()[\"total_value\"].sort_values(ascending=False)"
   ]
  },
  {
   "cell_type": "code",
   "execution_count": null,
   "metadata": {},
   "outputs": [],
   "source": []
  }
 ],
 "metadata": {
  "interpreter": {
   "hash": "1a244c2ee65a26931d74777612a57f1976789c49f1d475b5cc2360e699ccb534"
  },
  "kernelspec": {
   "display_name": "Python 3 (ipykernel)",
   "language": "python",
   "name": "python3"
  },
  "language_info": {
   "codemirror_mode": {
    "name": "ipython",
    "version": 3
   },
   "file_extension": ".py",
   "mimetype": "text/x-python",
   "name": "python",
   "nbconvert_exporter": "python",
   "pygments_lexer": "ipython3",
   "version": "3.9.7"
  }
 },
 "nbformat": 4,
 "nbformat_minor": 2
}
