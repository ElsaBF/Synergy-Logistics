{
 "cells": [
  {
   "cell_type": "markdown",
   "metadata": {},
   "source": [
    "Proyecto 2. Introducción al análisis de datos\n",
    "Elsa Ximena Barba Flores"
   ]
  },
  {
   "cell_type": "code",
   "execution_count": 1,
   "metadata": {},
   "outputs": [],
   "source": [
    "# Comenzamos importando la librería Pandas para análisis de datos y Seaborn para graficar\n",
    "import pandas as pd\n",
    "import seaborn as sns\n",
    "import matplotlib.pyplot as plt"
   ]
  },
  {
   "cell_type": "code",
   "execution_count": 2,
   "metadata": {},
   "outputs": [],
   "source": [
    "# Como una buena práctica se define una variable con el nombre del archivo CSV\n",
    "synergy_db = \"synergy_logistics_database.csv\""
   ]
  },
  {
   "cell_type": "code",
   "execution_count": 3,
   "metadata": {},
   "outputs": [],
   "source": [
    "# Abrimos el archivo CSV en modo lectura\n",
    "sldf = pd.read_csv(synergy_db, parse_dates=[5])\n"
   ]
  },
  {
   "cell_type": "markdown",
   "metadata": {},
   "source": [
    "Opción 1: Rutas de importación y exportación.\n",
    "\n",
    "Synergy Logistics quiere saber cuáles son las diez rutas más demandadas. Para resolver esto primero hay que tener en cuénta ¿Qué es lo que consideramos como ruta? Para definir una ruta es necesario tomar en cuenta el origen y el destino (no es lo mismo una ruta de China a Japón que de Japón a China) y el medio de transporte (no es lo mismo ir de México a Estados Unidos por tierra que por mar). Se consideran por separado los productos que son de importación de los de exportación."
   ]
  },
  {
   "cell_type": "code",
   "execution_count": 4,
   "metadata": {},
   "outputs": [],
   "source": [
    "# Utilizamos el método \"groupby\" para delimitar qué columnas de la variable dataframe queremos reacomodar\n",
    "# El argumento \"by\" nos permite delimitar cuáles columnas queremos obtener como índices.\n",
    "rutas = sldf.groupby(by=['direction', 'origin', 'destination', 'transport_mode'])\n",
    "#rutas.sum()"
   ]
  },
  {
   "cell_type": "code",
   "execution_count": 5,
   "metadata": {},
   "outputs": [],
   "source": [
    "# Sumamos los valores de la columna \"total_value\"\n",
    "suma = rutas.sum()['total_value']\n",
    "# Agregamos estadísticas descriptivas a la columna \"total_value\" de la variable \"rutas\"\n",
    "rutas = rutas['total_value'].describe()\n",
    "# Añadimos la columna con la suma total\n",
    "rutas['suma_total'] = suma\n",
    "rutas = rutas.reset_index()\n",
    "#rutas"
   ]
  },
  {
   "cell_type": "markdown",
   "metadata": {},
   "source": [
    "Ahora disponemos de un dataframe que contiene columnas (índices) que nos indican si se trata de una importación o una exportación, el país de origen, destino, medio de transporte, cantidad de veces que se realizó la ruta y la suma total de los valores generados por cada ruta.\n",
    "\n",
    "Con estos datos, hacemos el análisis para las diez rutas de exportación y las diez rutas de importación más demandadas"
   ]
  },
  {
   "cell_type": "code",
   "execution_count": 6,
   "metadata": {},
   "outputs": [],
   "source": [
    "# Creamos dos df separados, uno que contenga solo las importaciones y uno que contenga solamente exportaciones\n",
    "exportaciones = rutas[rutas['direction'] == 'Exports']\n",
    "#exportaciones\n",
    "importaciones = rutas[rutas['direction'] == 'Imports']\n",
    "#importaciones"
   ]
  },
  {
   "cell_type": "code",
   "execution_count": 7,
   "metadata": {},
   "outputs": [],
   "source": [
    "# Obtenemos un número entero que sea la suma de todos los valores de exportación\n",
    "# Y otro que contenga la suma de todos los valores de importación\n",
    "valor_total_exp = exportaciones.suma_total.sum()\n",
    "#valor_total_exp\n",
    "valor_total_imp = importaciones.suma_total.sum()"
   ]
  },
  {
   "cell_type": "code",
   "execution_count": 8,
   "metadata": {},
   "outputs": [],
   "source": [
    "# Creación de una función con argumentos dataframe y un mensaje\n",
    "def resultados(df, m):\n",
    "    total_valor = df.suma_total.sum()\n",
    "    total_usos = df['count'].sum()\n",
    "    porcentaje = (total_valor / valor_total_exp)*10000\n",
    "    porcentaje = int(porcentaje) / 100\n",
    "    print(f'Las 10 rutas {m} aportan {porcentaje}%, en un total de: {total_usos} servicios')"
   ]
  },
  {
   "cell_type": "markdown",
   "metadata": {},
   "source": [
    "Mostrando las diez rutas de exportación más demandadas"
   ]
  },
  {
   "cell_type": "code",
   "execution_count": 9,
   "metadata": {},
   "outputs": [],
   "source": [
    "mas_demandadas_exp = exportaciones.sort_values(by='count', ascending=False).head(10)\n",
    "mas_demandadas_exp = mas_demandadas_exp.reset_index()\n",
    "mayor_valor_exp = exportaciones.sort_values(by='suma_total', ascending=False).head(10)\n",
    "mayor_valor_exp = mayor_valor_exp.reset_index()\n",
    "#mas_demandadas_exp\n",
    "#mayor_valor_exp"
   ]
  },
  {
   "cell_type": "code",
   "execution_count": 10,
   "metadata": {},
   "outputs": [
    {
     "name": "stdout",
     "output_type": "stream",
     "text": [
      "Las 10 rutas mas demandadas aportan 28.13%, en un total de: 3305.0 servicios\n",
      "Las 10 rutas con mayor valor aportan 36.61%, en un total de: 2194.0 servicios\n"
     ]
    }
   ],
   "source": [
    "resultados(mas_demandadas_exp, 'mas demandadas')\n",
    "resultados(mayor_valor_exp, 'con mayor valor')"
   ]
  },
  {
   "cell_type": "markdown",
   "metadata": {},
   "source": [
    "Hacemos el análisis para las diez rutas de importación más demandadas"
   ]
  },
  {
   "cell_type": "code",
   "execution_count": 11,
   "metadata": {},
   "outputs": [],
   "source": [
    "mas_demandadas_imp = importaciones.sort_values(by='count', ascending=False).head(10)\n",
    "mas_demandadas_imp = mas_demandadas_imp.reset_index()\n",
    "mayor_valor_imp = importaciones.sort_values(by='suma_total', ascending=False).head(10)\n",
    "mayor_valor_imp = mayor_valor_imp.reset_index()\n",
    "#mas_demandadas_imp\n",
    "#mayor_valor_imp"
   ]
  },
  {
   "cell_type": "code",
   "execution_count": 12,
   "metadata": {},
   "outputs": [
    {
     "name": "stdout",
     "output_type": "stream",
     "text": [
      "Las 10 rutas mas demandadas aportan 16.32%, en un total de: 1740.0 servicios\n",
      "Las 10 rutas con mayor valor aportan 18.07%, en un total de: 1524.0 servicios\n"
     ]
    }
   ],
   "source": [
    "resultados(mas_demandadas_imp, 'mas demandadas')\n",
    "resultados(mayor_valor_imp, 'con mayor valor')"
   ]
  },
  {
   "cell_type": "markdown",
   "metadata": {},
   "source": [
    "Opción 2: Medio de transporte utilizado\n",
    "\n",
    "Synergy Logistics espera que realicemos un análisis que muestre los tres medios de transporte más importantes para las rutas de importación y exportación tomando en cuenta los valores que cada una genera.\n",
    "\n",
    "A primera instancia podemos pre visualizar cuáles son las rutas más importantes haciendo un gráfico de barras que muestre las insidencias. "
   ]
  },
  {
   "cell_type": "code",
   "execution_count": 13,
   "metadata": {},
   "outputs": [
    {
     "data": {
      "image/png": "[encoded data removed]",
      "text/plain": [
       "<Figure size 432x288 with 1 Axes>"
      ]
     },
     "metadata": {
      "needs_background": "light"
     },
     "output_type": "display_data"
    }
   ],
   "source": [
    "ax = sns.countplot(x='transport_mode', data=sldf, hue=\"direction\")"
   ]
  },
  {
   "cell_type": "markdown",
   "metadata": {},
   "source": [
    "Del grafico superior es fácil visualizar que, tanto para exportaciones como para importaciones, los medios de transporte más utilizados son por mar, por riel y por carretera.\n",
    "Ahora sigue hacer un análisis tomando en cuenta los valores de las ganancias, para facilitar la visualización realizamos un análisis anual."
   ]
  },
  {
   "cell_type": "code",
   "execution_count": 14,
   "metadata": {},
   "outputs": [
    {
     "data": {
      "text/plain": [
       "year  transport_mode\n",
       "2015  Air                7023000000\n",
       "      Rail               4437488000\n",
       "      Road               8231077000\n",
       "      Sea               11306827000\n",
       "2016  Air                3459111000\n",
       "      Rail               5479198000\n",
       "      Road               4710088000\n",
       "      Sea               18500041000\n",
       "2017  Air                9065068000\n",
       "      Rail               8483234000\n",
       "      Road               2042000000\n",
       "      Sea               14838463000\n",
       "2018  Air                2457374000\n",
       "      Rail              10632394000\n",
       "      Road               6502062000\n",
       "      Sea               17542148000\n",
       "2019  Air                9037995000\n",
       "      Rail               4684366000\n",
       "      Road               8732171000\n",
       "      Sea               18486953000\n",
       "2020  Air                7219599000\n",
       "      Rail               9911363000\n",
       "      Road               3053088000\n",
       "      Sea               19856190000\n",
       "Name: total_value, dtype: int64"
      ]
     },
     "execution_count": 14,
     "metadata": {},
     "output_type": "execute_result"
    }
   ],
   "source": [
    "#Obtenemos un dataframe agrupando por año y medio de transporte\n",
    "transportes_anuales = sldf.groupby(by=['year', 'transport_mode'])\n",
    "# Creamos una lista en la que tengamos como índices los años y los medios de transporte\n",
    "#además sumamos los valores obtenidos para cada uno de ellos\n",
    "valor_anual_transporte = transportes_anuales['total_value'].agg(pd.Series.sum)\n",
    "valor_anual_transporte"
   ]
  },
  {
   "cell_type": "code",
   "execution_count": 15,
   "metadata": {},
   "outputs": [
    {
     "data": {
      "text/html": [
       "<div>\n",
       "<style scoped>\n",
       "    .dataframe tbody tr th:only-of-type {\n",
       "        vertical-align: middle;\n",
       "    }\n",
       "\n",
       "    .dataframe tbody tr th {\n",
       "        vertical-align: top;\n",
       "    }\n",
       "\n",
       "    .dataframe thead th {\n",
       "        text-align: right;\n",
       "    }\n",
       "</style>\n",
       "<table border=\"1\" class=\"dataframe\">\n",
       "  <thead>\n",
       "    <tr style=\"text-align: right;\">\n",
       "      <th></th>\n",
       "      <th></th>\n",
       "      <th>valor_total</th>\n",
       "      <th>frecuencia</th>\n",
       "    </tr>\n",
       "    <tr>\n",
       "      <th>year</th>\n",
       "      <th>transport_mode</th>\n",
       "      <th></th>\n",
       "      <th></th>\n",
       "    </tr>\n",
       "  </thead>\n",
       "  <tbody>\n",
       "    <tr>\n",
       "      <th rowspan=\"4\" valign=\"top\">2015</th>\n",
       "      <th>Air</th>\n",
       "      <td>7023000000</td>\n",
       "      <td>417.0</td>\n",
       "    </tr>\n",
       "    <tr>\n",
       "      <th>Rail</th>\n",
       "      <td>4437488000</td>\n",
       "      <td>542.0</td>\n",
       "    </tr>\n",
       "    <tr>\n",
       "      <th>Road</th>\n",
       "      <td>8231077000</td>\n",
       "      <td>609.0</td>\n",
       "    </tr>\n",
       "    <tr>\n",
       "      <th>Sea</th>\n",
       "      <td>11306827000</td>\n",
       "      <td>1619.0</td>\n",
       "    </tr>\n",
       "    <tr>\n",
       "      <th rowspan=\"4\" valign=\"top\">2016</th>\n",
       "      <th>Air</th>\n",
       "      <td>3459111000</td>\n",
       "      <td>318.0</td>\n",
       "    </tr>\n",
       "    <tr>\n",
       "      <th>Rail</th>\n",
       "      <td>5479198000</td>\n",
       "      <td>507.0</td>\n",
       "    </tr>\n",
       "    <tr>\n",
       "      <th>Road</th>\n",
       "      <td>4710088000</td>\n",
       "      <td>344.0</td>\n",
       "    </tr>\n",
       "    <tr>\n",
       "      <th>Sea</th>\n",
       "      <td>18500041000</td>\n",
       "      <td>2004.0</td>\n",
       "    </tr>\n",
       "    <tr>\n",
       "      <th rowspan=\"4\" valign=\"top\">2017</th>\n",
       "      <th>Air</th>\n",
       "      <td>9065068000</td>\n",
       "      <td>536.0</td>\n",
       "    </tr>\n",
       "    <tr>\n",
       "      <th>Rail</th>\n",
       "      <td>8483234000</td>\n",
       "      <td>660.0</td>\n",
       "    </tr>\n",
       "    <tr>\n",
       "      <th>Road</th>\n",
       "      <td>2042000000</td>\n",
       "      <td>111.0</td>\n",
       "    </tr>\n",
       "    <tr>\n",
       "      <th>Sea</th>\n",
       "      <td>14838463000</td>\n",
       "      <td>1874.0</td>\n",
       "    </tr>\n",
       "    <tr>\n",
       "      <th rowspan=\"4\" valign=\"top\">2018</th>\n",
       "      <th>Air</th>\n",
       "      <td>2457374000</td>\n",
       "      <td>399.0</td>\n",
       "    </tr>\n",
       "    <tr>\n",
       "      <th>Rail</th>\n",
       "      <td>10632394000</td>\n",
       "      <td>749.0</td>\n",
       "    </tr>\n",
       "    <tr>\n",
       "      <th>Road</th>\n",
       "      <td>6502062000</td>\n",
       "      <td>556.0</td>\n",
       "    </tr>\n",
       "    <tr>\n",
       "      <th>Sea</th>\n",
       "      <td>17542148000</td>\n",
       "      <td>1476.0</td>\n",
       "    </tr>\n",
       "    <tr>\n",
       "      <th rowspan=\"4\" valign=\"top\">2019</th>\n",
       "      <th>Air</th>\n",
       "      <td>9037995000</td>\n",
       "      <td>358.0</td>\n",
       "    </tr>\n",
       "    <tr>\n",
       "      <th>Rail</th>\n",
       "      <td>4684366000</td>\n",
       "      <td>341.0</td>\n",
       "    </tr>\n",
       "    <tr>\n",
       "      <th>Road</th>\n",
       "      <td>8732171000</td>\n",
       "      <td>668.0</td>\n",
       "    </tr>\n",
       "    <tr>\n",
       "      <th>Sea</th>\n",
       "      <td>18486953000</td>\n",
       "      <td>1813.0</td>\n",
       "    </tr>\n",
       "    <tr>\n",
       "      <th rowspan=\"4\" valign=\"top\">2020</th>\n",
       "      <th>Air</th>\n",
       "      <td>7219599000</td>\n",
       "      <td>361.0</td>\n",
       "    </tr>\n",
       "    <tr>\n",
       "      <th>Rail</th>\n",
       "      <td>9911363000</td>\n",
       "      <td>582.0</td>\n",
       "    </tr>\n",
       "    <tr>\n",
       "      <th>Road</th>\n",
       "      <td>3053088000</td>\n",
       "      <td>310.0</td>\n",
       "    </tr>\n",
       "    <tr>\n",
       "      <th>Sea</th>\n",
       "      <td>19856190000</td>\n",
       "      <td>1902.0</td>\n",
       "    </tr>\n",
       "  </tbody>\n",
       "</table>\n",
       "</div>"
      ],
      "text/plain": [
       "                     valor_total  frecuencia\n",
       "year transport_mode                         \n",
       "2015 Air              7023000000       417.0\n",
       "     Rail             4437488000       542.0\n",
       "     Road             8231077000       609.0\n",
       "     Sea             11306827000      1619.0\n",
       "2016 Air              3459111000       318.0\n",
       "     Rail             5479198000       507.0\n",
       "     Road             4710088000       344.0\n",
       "     Sea             18500041000      2004.0\n",
       "2017 Air              9065068000       536.0\n",
       "     Rail             8483234000       660.0\n",
       "     Road             2042000000       111.0\n",
       "     Sea             14838463000      1874.0\n",
       "2018 Air              2457374000       399.0\n",
       "     Rail            10632394000       749.0\n",
       "     Road             6502062000       556.0\n",
       "     Sea             17542148000      1476.0\n",
       "2019 Air              9037995000       358.0\n",
       "     Rail             4684366000       341.0\n",
       "     Road             8732171000       668.0\n",
       "     Sea             18486953000      1813.0\n",
       "2020 Air              7219599000       361.0\n",
       "     Rail             9911363000       582.0\n",
       "     Road             3053088000       310.0\n",
       "     Sea             19856190000      1902.0"
      ]
     },
     "execution_count": 15,
     "metadata": {},
     "output_type": "execute_result"
    }
   ],
   "source": [
    "# Creamos una nueva variable dataframe\n",
    "info_transp_anual = pd.DataFrame()\n",
    "# Guardamos la serie \"valor_anual_transporte\" en el dataframe\n",
    "info_transp_anual['valor_total'] = valor_anual_transporte\n",
    "# Añadimos una columna de frecuencia que cuenta la cantidad de incidencias\n",
    "info_transp_anual['frecuencia'] = transportes_anuales['total_value'].describe()['count']\n",
    "info_transp_anual"
   ]
  },
  {
   "cell_type": "markdown",
   "metadata": {},
   "source": [
    "Ahora mostramos un gráfico de los años contra la frecuencia con la que se se utilizaron los distintos transportes contra el paso de los años."
   ]
  },
  {
   "cell_type": "code",
   "execution_count": 16,
   "metadata": {},
   "outputs": [
    {
     "data": {
      "text/plain": [
       "<AxesSubplot:xlabel='year', ylabel='frecuencia'>"
      ]
     },
     "execution_count": 16,
     "metadata": {},
     "output_type": "execute_result"
    },
    {
     "data": {
      "image/png": "[encoded data removed]",
      "text/plain": [
       "<Figure size 432x288 with 1 Axes>"
      ]
     },
     "metadata": {
      "needs_background": "light"
     },
     "output_type": "display_data"
    }
   ],
   "source": [
    "sns.lineplot(x='year', y='frecuencia', hue='transport_mode', data=info_transp_anual)"
   ]
  },
  {
   "cell_type": "markdown",
   "metadata": {},
   "source": [
    "A continuación se grafica el valor de las importaciones y exportaciones realizadas contra el paso de los años."
   ]
  },
  {
   "cell_type": "code",
   "execution_count": 17,
   "metadata": {},
   "outputs": [
    {
     "data": {
      "text/plain": [
       "<AxesSubplot:xlabel='year', ylabel='valor_total'>"
      ]
     },
     "execution_count": 17,
     "metadata": {},
     "output_type": "execute_result"
    },
    {
     "data": {
      "image/png": "[encoded data removed]",
      "text/plain": [
       "<Figure size 432x288 with 1 Axes>"
      ]
     },
     "metadata": {
      "needs_background": "light"
     },
     "output_type": "display_data"
    }
   ],
   "source": [
    "sns.lineplot(x='year', y='valor_total', hue='transport_mode', data=info_transp_anual)"
   ]
  },
  {
   "cell_type": "markdown",
   "metadata": {},
   "source": [
    "Opción 3: Valor total de importaciones y exportaciones\n",
    "\n",
    "Synergy Logistics desea enfocarse en los países que generan el 80% de sus ganancias en importaciones y exportaciones.\n"
   ]
  },
  {
   "cell_type": "code",
   "execution_count": 18,
   "metadata": {},
   "outputs": [],
   "source": [
    "# Comenzamos creando un dataframe para las importaciones y otro para las exportaciones\n",
    "importaciones = sldf[ sldf[\"direction\"] == \"Imports\"]\n",
    "exportaciones = sldf[ sldf[\"direction\"] == \"Exports\"]"
   ]
  },
  {
   "cell_type": "code",
   "execution_count": 19,
   "metadata": {},
   "outputs": [],
   "source": [
    "impo_origen = importaciones.groupby(\"origin\").sum()\n",
    "impo_destino = importaciones.groupby(\"destination\").sum()\n",
    "expo_origen = exportaciones.groupby(\"origin\").sum()\n",
    "expo_destino = exportaciones.groupby(\"destination\").sum()"
   ]
  },
  {
   "cell_type": "code",
   "execution_count": 27,
   "metadata": {},
   "outputs": [
    {
     "data": {
      "text/html": [
       "<div>\n",
       "<style scoped>\n",
       "    .dataframe tbody tr th:only-of-type {\n",
       "        vertical-align: middle;\n",
       "    }\n",
       "\n",
       "    .dataframe tbody tr th {\n",
       "        vertical-align: top;\n",
       "    }\n",
       "\n",
       "    .dataframe thead th {\n",
       "        text-align: right;\n",
       "    }\n",
       "</style>\n",
       "<table border=\"1\" class=\"dataframe\">\n",
       "  <thead>\n",
       "    <tr style=\"text-align: right;\">\n",
       "      <th></th>\n",
       "      <th>register_id</th>\n",
       "      <th>year</th>\n",
       "      <th>total_value</th>\n",
       "      <th>porcentaje</th>\n",
       "    </tr>\n",
       "    <tr>\n",
       "      <th>origin</th>\n",
       "      <th></th>\n",
       "      <th></th>\n",
       "      <th></th>\n",
       "      <th></th>\n",
       "    </tr>\n",
       "  </thead>\n",
       "  <tbody>\n",
       "    <tr>\n",
       "      <th>Australia</th>\n",
       "      <td>1872261</td>\n",
       "      <td>205632</td>\n",
       "      <td>920000000</td>\n",
       "      <td>0.016568</td>\n",
       "    </tr>\n",
       "    <tr>\n",
       "      <th>Brazil</th>\n",
       "      <td>2151979</td>\n",
       "      <td>240337</td>\n",
       "      <td>489000000</td>\n",
       "      <td>0.008806</td>\n",
       "    </tr>\n",
       "    <tr>\n",
       "      <th>Canada</th>\n",
       "      <td>854948</td>\n",
       "      <td>94876</td>\n",
       "      <td>569000000</td>\n",
       "      <td>0.010247</td>\n",
       "    </tr>\n",
       "    <tr>\n",
       "      <th>China</th>\n",
       "      <td>10471059</td>\n",
       "      <td>1240848</td>\n",
       "      <td>12233000000</td>\n",
       "      <td>0.220303</td>\n",
       "    </tr>\n",
       "    <tr>\n",
       "      <th>France</th>\n",
       "      <td>2987474</td>\n",
       "      <td>340719</td>\n",
       "      <td>1316000000</td>\n",
       "      <td>0.023700</td>\n",
       "    </tr>\n",
       "    <tr>\n",
       "      <th>Germany</th>\n",
       "      <td>6470757</td>\n",
       "      <td>744786</td>\n",
       "      <td>4250000000</td>\n",
       "      <td>0.076538</td>\n",
       "    </tr>\n",
       "    <tr>\n",
       "      <th>Italy</th>\n",
       "      <td>1522981</td>\n",
       "      <td>173492</td>\n",
       "      <td>1268000000</td>\n",
       "      <td>0.022835</td>\n",
       "    </tr>\n",
       "    <tr>\n",
       "      <th>Japan</th>\n",
       "      <td>7499140</td>\n",
       "      <td>897766</td>\n",
       "      <td>8094000000</td>\n",
       "      <td>0.145764</td>\n",
       "    </tr>\n",
       "    <tr>\n",
       "      <th>Malaysia</th>\n",
       "      <td>3388714</td>\n",
       "      <td>401360</td>\n",
       "      <td>3560000000</td>\n",
       "      <td>0.064112</td>\n",
       "    </tr>\n",
       "    <tr>\n",
       "      <th>Mexico</th>\n",
       "      <td>6313795</td>\n",
       "      <td>738306</td>\n",
       "      <td>4621000000</td>\n",
       "      <td>0.083219</td>\n",
       "    </tr>\n",
       "    <tr>\n",
       "      <th>Russia</th>\n",
       "      <td>715575</td>\n",
       "      <td>84798</td>\n",
       "      <td>851000000</td>\n",
       "      <td>0.015326</td>\n",
       "    </tr>\n",
       "    <tr>\n",
       "      <th>Singapore</th>\n",
       "      <td>4844672</td>\n",
       "      <td>550813</td>\n",
       "      <td>4017000000</td>\n",
       "      <td>0.072342</td>\n",
       "    </tr>\n",
       "    <tr>\n",
       "      <th>South Korea</th>\n",
       "      <td>2621697</td>\n",
       "      <td>324757</td>\n",
       "      <td>3889000000</td>\n",
       "      <td>0.070037</td>\n",
       "    </tr>\n",
       "    <tr>\n",
       "      <th>Spain</th>\n",
       "      <td>3029193</td>\n",
       "      <td>369012</td>\n",
       "      <td>3001000000</td>\n",
       "      <td>0.054045</td>\n",
       "    </tr>\n",
       "    <tr>\n",
       "      <th>USA</th>\n",
       "      <td>6464417</td>\n",
       "      <td>758592</td>\n",
       "      <td>5291000000</td>\n",
       "      <td>0.095285</td>\n",
       "    </tr>\n",
       "    <tr>\n",
       "      <th>United Arab Emirates</th>\n",
       "      <td>342690</td>\n",
       "      <td>40400</td>\n",
       "      <td>371000000</td>\n",
       "      <td>0.006681</td>\n",
       "    </tr>\n",
       "    <tr>\n",
       "      <th>United Kingdom</th>\n",
       "      <td>1020713</td>\n",
       "      <td>116986</td>\n",
       "      <td>248000000</td>\n",
       "      <td>0.004466</td>\n",
       "    </tr>\n",
       "    <tr>\n",
       "      <th>Vietnam</th>\n",
       "      <td>292095</td>\n",
       "      <td>36360</td>\n",
       "      <td>540000000</td>\n",
       "      <td>0.009725</td>\n",
       "    </tr>\n",
       "  </tbody>\n",
       "</table>\n",
       "</div>"
      ],
      "text/plain": [
       "                      register_id     year  total_value  porcentaje\n",
       "origin                                                             \n",
       "Australia                 1872261   205632    920000000    0.016568\n",
       "Brazil                    2151979   240337    489000000    0.008806\n",
       "Canada                     854948    94876    569000000    0.010247\n",
       "China                    10471059  1240848  12233000000    0.220303\n",
       "France                    2987474   340719   1316000000    0.023700\n",
       "Germany                   6470757   744786   4250000000    0.076538\n",
       "Italy                     1522981   173492   1268000000    0.022835\n",
       "Japan                     7499140   897766   8094000000    0.145764\n",
       "Malaysia                  3388714   401360   3560000000    0.064112\n",
       "Mexico                    6313795   738306   4621000000    0.083219\n",
       "Russia                     715575    84798    851000000    0.015326\n",
       "Singapore                 4844672   550813   4017000000    0.072342\n",
       "South Korea               2621697   324757   3889000000    0.070037\n",
       "Spain                     3029193   369012   3001000000    0.054045\n",
       "USA                       6464417   758592   5291000000    0.095285\n",
       "United Arab Emirates       342690    40400    371000000    0.006681\n",
       "United Kingdom            1020713   116986    248000000    0.004466\n",
       "Vietnam                    292095    36360    540000000    0.009725"
      ]
     },
     "execution_count": 27,
     "metadata": {},
     "output_type": "execute_result"
    }
   ],
   "source": [
    "suma_total = impo_origen.sum()\n",
    "suma_total = suma_total[\"total_value\"]\n",
    "impo_origen['porcentaje'] = (impo_origen[\"total_value\"]/suma_total)\n",
    "impo_origen"
   ]
  },
  {
   "cell_type": "code",
   "execution_count": null,
   "metadata": {},
   "outputs": [],
   "source": []
  }
 ],
 "metadata": {
  "interpreter": {
   "hash": "1a244c2ee65a26931d74777612a57f1976789c49f1d475b5cc2360e699ccb534"
  },
  "kernelspec": {
   "display_name": "Python 3 (ipykernel)",
   "language": "python",
   "name": "python3"
  },
  "language_info": {
   "codemirror_mode": {
    "name": "ipython",
    "version": 3
   },
   "file_extension": ".py",
   "mimetype": "text/x-python",
   "name": "python",
   "nbconvert_exporter": "python",
   "pygments_lexer": "ipython3",
   "version": "3.9.7"
  }
 },
 "nbformat": 4,
 "nbformat_minor": 2
}
