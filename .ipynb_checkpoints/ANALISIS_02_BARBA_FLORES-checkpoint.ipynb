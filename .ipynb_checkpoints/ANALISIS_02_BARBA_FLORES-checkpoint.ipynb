{
 "cells": [
  {
   "cell_type": "markdown",
   "metadata": {},
   "source": [
    "Proyecto 2. Introducción al análisis de datos\n",
    "Elsa Ximena Barba Flores"
   ]
  },
  {
   "cell_type": "code",
   "execution_count": 1,
   "metadata": {},
   "outputs": [],
   "source": [
    "# Comenzamos importando la librería Pandas para análisis de datos y Seaborn para graficar\n",
    "import pandas as pd\n",
    "import seaborn as sns\n",
    "import matplotlib.pyplot as plt"
   ]
  },
  {
   "cell_type": "code",
   "execution_count": 2,
   "metadata": {},
   "outputs": [],
   "source": [
    "# Como una buena práctica se define una variable con el nombre del archivo CSV\n",
    "synergy_db = \"synergy_logistics_database.csv\""
   ]
  },
  {
   "cell_type": "code",
   "execution_count": 3,
   "metadata": {},
   "outputs": [],
   "source": [
    "# Abrimos el archivo CSV en modo lectura\n",
    "sldf = pd.read_csv(synergy_db, parse_dates=[5])\n"
   ]
  },
  {
   "cell_type": "markdown",
   "metadata": {},
   "source": [
    "Opción 1: Rutas de importación y exportación.\n",
    "\n",
    "Synergy Logistics quiere saber cuáles son las diez rutas más demandadas. Para resolver esto primero hay que tener en cuénta ¿Qué es lo que consideramos como ruta? Para definir una ruta es necesario tomar en cuenta el origen y el destino (no es lo mismo una ruta de China a Japón que de Japón a China) y el medio de transporte (no es lo mismo ir de México a Estados Unidos por tierra que por mar). Se consideran por separado los productos que son de importación de los de exportación."
   ]
  },
  {
   "cell_type": "code",
   "execution_count": 4,
   "metadata": {},
   "outputs": [],
   "source": [
    "# Utilizamos el método \"groupby\" para delimitar qué columnas de la variable dataframe queremos reacomodar\n",
    "# El argumento \"by\" nos permite delimitar cuáles columnas queremos obtener como índices.\n",
    "rutas = sldf.groupby(by=[\"direction\", \"origin\", \"destination\", \"transport_mode\"])\n",
    "#rutas.sum()"
   ]
  },
  {
   "cell_type": "code",
   "execution_count": 5,
   "metadata": {},
   "outputs": [],
   "source": [
    "# Sumamos los valores de la columna \"total_value\"\n",
    "suma = rutas.sum()[\"total_value\"]\n",
    "# Agregamos estadísticas descriptivas a la columna \"total_value\" de la variable \"rutas\"\n",
    "rutas = rutas[\"total_value\"].describe()\n",
    "# Añadimos la columna con la suma total\n",
    "rutas[\"suma_total\"] = suma\n",
    "rutas = rutas.reset_index()\n",
    "#rutas"
   ]
  },
  {
   "cell_type": "markdown",
   "metadata": {},
   "source": [
    "Ahora disponemos de un dataframe que contiene columnas (índices) que nos indican si se trata de una importación o una exportación, el país de origen, destino, medio de transporte, cantidad de veces que se realizó la ruta y la suma total de los valores generados por cada ruta.\n",
    "\n",
    "Con estos datos, hacemos el análisis para las diez rutas de exportación y las diez rutas de importación más demandadas"
   ]
  },
  {
   "cell_type": "code",
   "execution_count": 6,
   "metadata": {},
   "outputs": [],
   "source": [
    "# Creamos dos df separados, uno que contenga solo las importaciones y uno que contenga solamente exportaciones\n",
    "exportaciones = rutas[rutas[\"direction\"] == \"Exports\"]\n",
    "#exportaciones\n",
    "importaciones = rutas[rutas[\"direction\"] == \"Imports\"]\n",
    "#importaciones"
   ]
  },
  {
   "cell_type": "code",
   "execution_count": 7,
   "metadata": {},
   "outputs": [],
   "source": [
    "# Obtenemos un número entero que sea la suma de todos los valores de exportación\n",
    "# Y otro que contenga la suma de todos los valores de importación\n",
    "valor_total_exp = exportaciones.suma_total.sum()\n",
    "#valor_total_exp\n",
    "valor_total_imp = importaciones.suma_total.sum()"
   ]
  },
  {
   "cell_type": "code",
   "execution_count": 9,
   "metadata": {},
   "outputs": [],
   "source": [
    "# Creación de una función con argumentos dataframe y un mensaje\n",
    "def resultados(df, m):\n",
    "    total_valor = df.suma_total.sum()\n",
    "    total_usos = df['count'].sum()\n",
    "    porcentaje = (total_valor / valor_total_exp)*10000\n",
    "    porcentaje = int(porcentaje) / 100\n",
    "    print(f\"Las 10 rutas {m} aportan {porcentaje}%, en un total de: {total_usos} servicios\")"
   ]
  },
  {
   "cell_type": "markdown",
   "metadata": {},
   "source": [
    "Mostrando las diez rutas de exportación más demandadas"
   ]
  },
  {
   "cell_type": "code",
   "execution_count": 10,
   "metadata": {},
   "outputs": [],
   "source": [
    "mas_demandadas_exp = exportaciones.sort_values(by=\"count\", ascending=False).head(10)\n",
    "mas_demandadas_exp = mas_demandadas_exp.reset_index()\n",
    "mayor_valor_exp = exportaciones.sort_values(by=\"suma_total\", ascending=False).head(10)\n",
    "mayor_valor_exp = mayor_valor_exp.reset_index()\n",
    "#mas_demandadas_exp\n",
    "#mayor_valor_exp"
   ]
  },
  {
   "cell_type": "code",
   "execution_count": 11,
   "metadata": {},
   "outputs": [
    {
     "name": "stdout",
     "output_type": "stream",
     "text": [
      "Las 10 rutas mas demandadas aportan 28.13%, en un total de: 3305.0 servicios\n",
      "Las 10 rutas con mayor valor aportan 36.61%, en un total de: 2194.0 servicios\n"
     ]
    }
   ],
   "source": [
    "resultados(mas_demandadas_exp, \"mas demandadas\")\n",
    "resultados(mayor_valor_exp, \"con mayor valor\")"
   ]
  },
  {
   "cell_type": "markdown",
   "metadata": {},
   "source": [
    "Hacemos el análisis para las diez rutas de importación más demandadas"
   ]
  },
  {
   "cell_type": "code",
   "execution_count": 12,
   "metadata": {},
   "outputs": [],
   "source": [
    "mas_demandadas_imp = importaciones.sort_values(by=\"count\", ascending=False).head(10)\n",
    "mas_demandadas_imp = mas_demandadas_imp.reset_index()\n",
    "mayor_valor_imp = importaciones.sort_values(by=\"suma_total\", ascending=False).head(10)\n",
    "mayor_valor_imp = mayor_valor_imp.reset_index()\n",
    "#mas_demandadas_imp\n",
    "#mayor_valor_imp"
   ]
  },
  {
   "cell_type": "code",
   "execution_count": 13,
   "metadata": {},
   "outputs": [
    {
     "name": "stdout",
     "output_type": "stream",
     "text": [
      "Las 10 rutas mas demandadas aportan 16.32%, en un total de: 1740.0 servicios\n",
      "Las 10 rutas con mayor valor aportan 18.07%, en un total de: 1524.0 servicios\n"
     ]
    }
   ],
   "source": [
    "resultados(mas_demandadas_imp, \"mas demandadas\")\n",
    "resultados(mayor_valor_imp, \"con mayor valor\")"
   ]
  },
  {
   "cell_type": "markdown",
   "metadata": {},
   "source": [
    "Opción 2: Medio de transporte utilizado\n",
    "\n",
    "Synergy Logistics espera que realicemos un análisis que muestre los tres medios de transporte más importantes para las rutas de importación y exportación tomando en cuenta los valores que cada una genera.\n",
    "\n",
    "A primera instancia podemos pre visualizar cuáles son las rutas más importantes haciendo un gráfico de barras que muestre las insidencias. "
   ]
  },
  {
   "cell_type": "code",
   "execution_count": 14,
   "metadata": {},
   "outputs": [
    {
     "data": {
      "image/png": "[encoded data removed]",
      "text/plain": [
       "<Figure size 432x288 with 1 Axes>"
      ]
     },
     "metadata": {
      "needs_background": "light"
     },
     "output_type": "display_data"
    }
   ],
   "source": [
    "ax = sns.countplot(x=\"transport_mode\", data=sldf, hue=\"direction\")"
   ]
  },
  {
   "cell_type": "markdown",
   "metadata": {},
   "source": [
    "Del grafico superior es fácil visualizar que, tanto para exportaciones como para importaciones, los medios de transporte más utilizados son por mar, por riel y por carretera.\n",
    "Ahora sigue hacer un análisis tomando en cuenta los valores de las ganancias, para facilitar la visualización realizamos un análisis anual."
   ]
  },
  {
   "cell_type": "code",
   "execution_count": 15,
   "metadata": {},
   "outputs": [
    {
     "data": {
      "text/plain": [
       "year  transport_mode\n",
       "2015  Air                7023000000\n",
       "      Rail               4437488000\n",
       "      Road               8231077000\n",
       "      Sea               11306827000\n",
       "2016  Air                3459111000\n",
       "      Rail               5479198000\n",
       "      Road               4710088000\n",
       "      Sea               18500041000\n",
       "2017  Air                9065068000\n",
       "      Rail               8483234000\n",
       "      Road               2042000000\n",
       "      Sea               14838463000\n",
       "2018  Air                2457374000\n",
       "      Rail              10632394000\n",
       "      Road               6502062000\n",
       "      Sea               17542148000\n",
       "2019  Air                9037995000\n",
       "      Rail               4684366000\n",
       "      Road               8732171000\n",
       "      Sea               18486953000\n",
       "2020  Air                7219599000\n",
       "      Rail               9911363000\n",
       "      Road               3053088000\n",
       "      Sea               19856190000\n",
       "Name: total_value, dtype: int64"
      ]
     },
     "execution_count": 15,
     "metadata": {},
     "output_type": "execute_result"
    }
   ],
   "source": [
    "#Obtenemos un dataframe agrupando por año y medio de transporte\n",
    "transportes_anuales = sldf.groupby(by=[\"year\", \"transport_mode\"])\n",
    "# Creamos una lista en la que tengamos como índices los años y los medios de transporte\n",
    "#además sumamos los valores obtenidos para cada uno de ellos\n",
    "valor_anual_transporte = transportes_anuales[\"total_value\"].agg(pd.Series.sum)\n",
    "valor_anual_transporte"
   ]
  },
  {
   "cell_type": "code",
   "execution_count": 16,
   "metadata": {},
   "outputs": [
    {
     "data": {
      "text/html": [
       "<div>\n",
       "<style scoped>\n",
       "    .dataframe tbody tr th:only-of-type {\n",
       "        vertical-align: middle;\n",
       "    }\n",
       "\n",
       "    .dataframe tbody tr th {\n",
       "        vertical-align: top;\n",
       "    }\n",
       "\n",
       "    .dataframe thead th {\n",
       "        text-align: right;\n",
       "    }\n",
       "</style>\n",
       "<table border=\"1\" class=\"dataframe\">\n",
       "  <thead>\n",
       "    <tr style=\"text-align: right;\">\n",
       "      <th></th>\n",
       "      <th></th>\n",
       "      <th>valor_total</th>\n",
       "      <th>frecuencia</th>\n",
       "    </tr>\n",
       "    <tr>\n",
       "      <th>year</th>\n",
       "      <th>transport_mode</th>\n",
       "      <th></th>\n",
       "      <th></th>\n",
       "    </tr>\n",
       "  </thead>\n",
       "  <tbody>\n",
       "    <tr>\n",
       "      <th rowspan=\"4\" valign=\"top\">2015</th>\n",
       "      <th>Air</th>\n",
       "      <td>7023000000</td>\n",
       "      <td>417.0</td>\n",
       "    </tr>\n",
       "    <tr>\n",
       "      <th>Rail</th>\n",
       "      <td>4437488000</td>\n",
       "      <td>542.0</td>\n",
       "    </tr>\n",
       "    <tr>\n",
       "      <th>Road</th>\n",
       "      <td>8231077000</td>\n",
       "      <td>609.0</td>\n",
       "    </tr>\n",
       "    <tr>\n",
       "      <th>Sea</th>\n",
       "      <td>11306827000</td>\n",
       "      <td>1619.0</td>\n",
       "    </tr>\n",
       "    <tr>\n",
       "      <th rowspan=\"4\" valign=\"top\">2016</th>\n",
       "      <th>Air</th>\n",
       "      <td>3459111000</td>\n",
       "      <td>318.0</td>\n",
       "    </tr>\n",
       "    <tr>\n",
       "      <th>Rail</th>\n",
       "      <td>5479198000</td>\n",
       "      <td>507.0</td>\n",
       "    </tr>\n",
       "    <tr>\n",
       "      <th>Road</th>\n",
       "      <td>4710088000</td>\n",
       "      <td>344.0</td>\n",
       "    </tr>\n",
       "    <tr>\n",
       "      <th>Sea</th>\n",
       "      <td>18500041000</td>\n",
       "      <td>2004.0</td>\n",
       "    </tr>\n",
       "    <tr>\n",
       "      <th rowspan=\"4\" valign=\"top\">2017</th>\n",
       "      <th>Air</th>\n",
       "      <td>9065068000</td>\n",
       "      <td>536.0</td>\n",
       "    </tr>\n",
       "    <tr>\n",
       "      <th>Rail</th>\n",
       "      <td>8483234000</td>\n",
       "      <td>660.0</td>\n",
       "    </tr>\n",
       "    <tr>\n",
       "      <th>Road</th>\n",
       "      <td>2042000000</td>\n",
       "      <td>111.0</td>\n",
       "    </tr>\n",
       "    <tr>\n",
       "      <th>Sea</th>\n",
       "      <td>14838463000</td>\n",
       "      <td>1874.0</td>\n",
       "    </tr>\n",
       "    <tr>\n",
       "      <th rowspan=\"4\" valign=\"top\">2018</th>\n",
       "      <th>Air</th>\n",
       "      <td>2457374000</td>\n",
       "      <td>399.0</td>\n",
       "    </tr>\n",
       "    <tr>\n",
       "      <th>Rail</th>\n",
       "      <td>10632394000</td>\n",
       "      <td>749.0</td>\n",
       "    </tr>\n",
       "    <tr>\n",
       "      <th>Road</th>\n",
       "      <td>6502062000</td>\n",
       "      <td>556.0</td>\n",
       "    </tr>\n",
       "    <tr>\n",
       "      <th>Sea</th>\n",
       "      <td>17542148000</td>\n",
       "      <td>1476.0</td>\n",
       "    </tr>\n",
       "    <tr>\n",
       "      <th rowspan=\"4\" valign=\"top\">2019</th>\n",
       "      <th>Air</th>\n",
       "      <td>9037995000</td>\n",
       "      <td>358.0</td>\n",
       "    </tr>\n",
       "    <tr>\n",
       "      <th>Rail</th>\n",
       "      <td>4684366000</td>\n",
       "      <td>341.0</td>\n",
       "    </tr>\n",
       "    <tr>\n",
       "      <th>Road</th>\n",
       "      <td>8732171000</td>\n",
       "      <td>668.0</td>\n",
       "    </tr>\n",
       "    <tr>\n",
       "      <th>Sea</th>\n",
       "      <td>18486953000</td>\n",
       "      <td>1813.0</td>\n",
       "    </tr>\n",
       "    <tr>\n",
       "      <th rowspan=\"4\" valign=\"top\">2020</th>\n",
       "      <th>Air</th>\n",
       "      <td>7219599000</td>\n",
       "      <td>361.0</td>\n",
       "    </tr>\n",
       "    <tr>\n",
       "      <th>Rail</th>\n",
       "      <td>9911363000</td>\n",
       "      <td>582.0</td>\n",
       "    </tr>\n",
       "    <tr>\n",
       "      <th>Road</th>\n",
       "      <td>3053088000</td>\n",
       "      <td>310.0</td>\n",
       "    </tr>\n",
       "    <tr>\n",
       "      <th>Sea</th>\n",
       "      <td>19856190000</td>\n",
       "      <td>1902.0</td>\n",
       "    </tr>\n",
       "  </tbody>\n",
       "</table>\n",
       "</div>"
      ],
      "text/plain": [
       "                     valor_total  frecuencia\n",
       "year transport_mode                         \n",
       "2015 Air              7023000000       417.0\n",
       "     Rail             4437488000       542.0\n",
       "     Road             8231077000       609.0\n",
       "     Sea             11306827000      1619.0\n",
       "2016 Air              3459111000       318.0\n",
       "     Rail             5479198000       507.0\n",
       "     Road             4710088000       344.0\n",
       "     Sea             18500041000      2004.0\n",
       "2017 Air              9065068000       536.0\n",
       "     Rail             8483234000       660.0\n",
       "     Road             2042000000       111.0\n",
       "     Sea             14838463000      1874.0\n",
       "2018 Air              2457374000       399.0\n",
       "     Rail            10632394000       749.0\n",
       "     Road             6502062000       556.0\n",
       "     Sea             17542148000      1476.0\n",
       "2019 Air              9037995000       358.0\n",
       "     Rail             4684366000       341.0\n",
       "     Road             8732171000       668.0\n",
       "     Sea             18486953000      1813.0\n",
       "2020 Air              7219599000       361.0\n",
       "     Rail             9911363000       582.0\n",
       "     Road             3053088000       310.0\n",
       "     Sea             19856190000      1902.0"
      ]
     },
     "execution_count": 16,
     "metadata": {},
     "output_type": "execute_result"
    }
   ],
   "source": [
    "# Creamos una nueva variable dataframe\n",
    "info_transp_anual = pd.DataFrame()\n",
    "# Guardamos la serie \"valor_anual_transporte\" en el dataframe\n",
    "info_transp_anual[\"valor_total\"] = valor_anual_transporte\n",
    "# Añadimos una columna de frecuencia que cuenta la cantidad de incidencias\n",
    "info_transp_anual[\"frecuencia\"] = transportes_anuales[\"total_value\"].describe()[\"count\"]\n",
    "info_transp_anual"
   ]
  },
  {
   "cell_type": "markdown",
   "metadata": {},
   "source": [
    "Ahora mostramos un gráfico de los años contra la frecuencia con la que se se utilizaron los distintos transportes contra el paso de los años."
   ]
  },
  {
   "cell_type": "code",
   "execution_count": 17,
   "metadata": {},
   "outputs": [
    {
     "data": {
      "text/plain": [
       "<AxesSubplot:xlabel='year', ylabel='frecuencia'>"
      ]
     },
     "execution_count": 17,
     "metadata": {},
     "output_type": "execute_result"
    },
    {
     "data": {
      "image/png": "[encoded data removed]",
      "text/plain": [
       "<Figure size 432x288 with 1 Axes>"
      ]
     },
     "metadata": {
      "needs_background": "light"
     },
     "output_type": "display_data"
    }
   ],
   "source": [
    "sns.lineplot(x=\"year\", y=\"frecuencia\", hue=\"transport_mode\", data=info_transp_anual)"
   ]
  },
  {
   "cell_type": "markdown",
   "metadata": {},
   "source": [
    "A continuación se grafica el valor de las importaciones y exportaciones realizadas contra el paso de los años."
   ]
  },
  {
   "cell_type": "code",
   "execution_count": 18,
   "metadata": {},
   "outputs": [
    {
     "data": {
      "text/plain": [
       "<AxesSubplot:xlabel='year', ylabel='valor_total'>"
      ]
     },
     "execution_count": 18,
     "metadata": {},
     "output_type": "execute_result"
    },
    {
     "data": {
      "image/png": "[encoded data removed]",
      "text/plain": [
       "<Figure size 432x288 with 1 Axes>"
      ]
     },
     "metadata": {
      "needs_background": "light"
     },
     "output_type": "display_data"
    }
   ],
   "source": [
    "sns.lineplot(x=\"year\", y=\"valor_total\", hue=\"transport_mode\", data=info_transp_anual)"
   ]
  },
  {
   "cell_type": "markdown",
   "metadata": {},
   "source": [
    "Opción 3: Valor total de importaciones y exportaciones\n",
    "\n",
    "Synergy Logistics desea enfocarse en los países que generan el 80% de sus ganancias en importaciones y exportaciones.\n"
   ]
  },
  {
   "cell_type": "code",
   "execution_count": 19,
   "metadata": {},
   "outputs": [],
   "source": [
    "# Comenzamos creando un dataframe para las importaciones y otro para las exportaciones\n",
    "importaciones = sldf[ sldf[\"direction\"] == \"Imports\"]\n",
    "exportaciones = sldf[ sldf[\"direction\"] == \"Exports\"]"
   ]
  },
  {
   "cell_type": "code",
   "execution_count": 20,
   "metadata": {},
   "outputs": [],
   "source": [
    "impo_origen = importaciones.groupby(\"origin\").sum()\n",
    "impo_destino = importaciones.groupby(\"destination\").sum()\n",
    "expo_origen = exportaciones.groupby(\"origin\").sum()\n",
    "expo_destino = exportaciones.groupby(\"destination\").sum()"
   ]
  },
  {
   "cell_type": "code",
   "execution_count": 21,
   "metadata": {},
   "outputs": [],
   "source": [
    "def top_porcentaje(df, m, origin_or_destination):\n",
    "    suma_total = df.sum()\n",
    "    suma_total = suma_total[\"total_value\"]\n",
    "    df['porcentaje'] = (df[\"total_value\"] * 100 /suma_total)\n",
    "    df = df.sort_values(\"porcentaje\", ascending=False)\n",
    "    col_suma_acumulada = df.cumsum()[\"porcentaje\"]\n",
    "    df[\"porcentaje_acumulado\"] = col_suma_acumulada\n",
    "    top_80 = df[ df[\"porcentaje_acumulado\"] <= 80]\n",
    "    print(f\"Los aportan países que generan mayor valor en {m} son:\")\n",
    "    print(top_80)\n",
    "\n",
    "    sns.lineplot(x= origin_or_destination, y='porcentaje', data=top_80)"
   ]
  },
  {
   "cell_type": "code",
   "execution_count": 22,
   "metadata": {},
   "outputs": [
    {
     "name": "stdout",
     "output_type": "stream",
     "text": [
      "Los aportan países que generan mayor valor en importaciones considerando el país de origen son:\n",
      "             register_id     year  total_value  porcentaje  \\\n",
      "origin                                                       \n",
      "China           10471059  1240848  12233000000   22.030327   \n",
      "Japan            7499140   897766   8094000000   14.576430   \n",
      "USA              6464417   758592   5291000000    9.528526   \n",
      "Mexico           6313795   738306   4621000000    8.321928   \n",
      "Germany          6470757   744786   4250000000    7.653796   \n",
      "Singapore        4844672   550813   4017000000    7.234188   \n",
      "South Korea      2621697   324757   3889000000    7.003674   \n",
      "\n",
      "             porcentaje_acumulado  \n",
      "origin                             \n",
      "China                   22.030327  \n",
      "Japan                   36.606757  \n",
      "USA                     46.135283  \n",
      "Mexico                  54.457211  \n",
      "Germany                 62.111007  \n",
      "Singapore               69.345195  \n",
      "South Korea             76.348869  \n"
     ]
    },
    {
     "data": {
      "image/png": "[encoded data removed]",
      "text/plain": [
       "<Figure size 432x288 with 1 Axes>"
      ]
     },
     "metadata": {
      "needs_background": "light"
     },
     "output_type": "display_data"
    }
   ],
   "source": [
    "top_porcentaje(impo_origen, \"importaciones considerando el país de origen\", \"origin\")"
   ]
  },
  {
   "cell_type": "code",
   "execution_count": 23,
   "metadata": {},
   "outputs": [
    {
     "name": "stdout",
     "output_type": "stream",
     "text": [
      "Los aportan países que generan mayor valor en importaciones considerando el país destino son:\n",
      "                      register_id     year  total_value  porcentaje  \\\n",
      "destination                                                           \n",
      "Thailand                 14419188  1678197  13745000000   24.753278   \n",
      "Mexico                    7172388   871457   8894000000   16.017145   \n",
      "United Arab Emirates      4171713   522950   7848000000   14.133410   \n",
      "Japan                     7293821   835156   5828000000   10.495606   \n",
      "Germany                   5934946   715645   5109000000    9.200764   \n",
      "\n",
      "                      porcentaje_acumulado  \n",
      "destination                                 \n",
      "Thailand                         24.753278  \n",
      "Mexico                           40.770422  \n",
      "United Arab Emirates             54.903832  \n",
      "Japan                            65.399438  \n",
      "Germany                          74.600202  \n"
     ]
    },
    {
     "data": {
      "image/png": "[encoded data removed]",
      "text/plain": [
       "<Figure size 432x288 with 1 Axes>"
      ]
     },
     "metadata": {
      "needs_background": "light"
     },
     "output_type": "display_data"
    }
   ],
   "source": [
    "top_porcentaje(impo_destino, \"importaciones considerando el país destino\", \"destination\")"
   ]
  },
  {
   "cell_type": "code",
   "execution_count": 24,
   "metadata": {},
   "outputs": [
    {
     "name": "stdout",
     "output_type": "stream",
     "text": [
      "Los aportan países que generan mayor valor en exportaciones considerando el país de origen son:\n",
      "             register_id     year  total_value  porcentaje  \\\n",
      "origin                                                       \n",
      "China            9395944  3343248  32977046000   20.589640   \n",
      "France           8439498  1854137  18614332000   11.622096   \n",
      "USA              7596698  2953071  18355306000   11.460370   \n",
      "South Korea      6218469  2287853  14621146000    9.128899   \n",
      "Russia           1826527  1545745  13223000000    8.255949   \n",
      "Japan            8342837  2535907  11948976000    7.460496   \n",
      "Germany         13054382  2612813  11343233000    7.082292   \n",
      "\n",
      "             porcentaje_acumulado  \n",
      "origin                             \n",
      "China                   20.589640  \n",
      "France                  32.211736  \n",
      "USA                     43.672105  \n",
      "South Korea             52.801004  \n",
      "Russia                  61.056953  \n",
      "Japan                   68.517449  \n",
      "Germany                 75.599741  \n"
     ]
    },
    {
     "data": {
      "image/png": "[encoded data removed]",
      "text/plain": [
       "<Figure size 432x288 with 1 Axes>"
      ]
     },
     "metadata": {
      "needs_background": "light"
     },
     "output_type": "display_data"
    }
   ],
   "source": [
    "top_porcentaje(expo_origen, \"exportaciones considerando el país de origen\", \"origin\")"
   ]
  },
  {
   "cell_type": "code",
   "execution_count": 25,
   "metadata": {},
   "outputs": [
    {
     "name": "stdout",
     "output_type": "stream",
     "text": [
      "Los aportan países que generan mayor valor en exportaciones considerando el país destino son:\n",
      "                register_id     year  total_value  porcentaje  \\\n",
      "destination                                                     \n",
      "Mexico              8763281  2833936  28315015000   17.678841   \n",
      "USA                10635772  2712607  13159409000    8.216245   \n",
      "Belgium             9138742  2518156  13099380000    8.178765   \n",
      "Germany             5683351  1662185  11303451000    7.057454   \n",
      "China               5667365  2033229  11259992000    7.030320   \n",
      "Japan               4167859  1327472   8777152000    5.480127   \n",
      "United Kingdom      4023051  1071229   8150673000    5.088977   \n",
      "Brazil              6986219  1822080   7508016000    4.687726   \n",
      "South Korea         2678925   837067   7321668000    4.571377   \n",
      "Vietnam             2252300  1002958   6877007000    4.293747   \n",
      "Italy               3638931   851424   6109329000    3.814438   \n",
      "Spain               5346262  1275052   5934191000    3.705088   \n",
      "\n",
      "                porcentaje_acumulado  \n",
      "destination                           \n",
      "Mexico                     17.678841  \n",
      "USA                        25.895086  \n",
      "Belgium                    34.073851  \n",
      "Germany                    41.131305  \n",
      "China                      48.161625  \n",
      "Japan                      53.641752  \n",
      "United Kingdom             58.730729  \n",
      "Brazil                     63.418454  \n",
      "South Korea                67.989831  \n",
      "Vietnam                    72.283578  \n",
      "Italy                      76.098016  \n",
      "Spain                      79.803104  \n"
     ]
    },
    {
     "data": {
      "image/png": "[encoded data removed]",
      "text/plain": [
       "<Figure size 432x288 with 1 Axes>"
      ]
     },
     "metadata": {
      "needs_background": "light"
     },
     "output_type": "display_data"
    }
   ],
   "source": [
    "top_porcentaje(expo_destino, \"exportaciones considerando el país destino\", \"destination\")"
   ]
  }
 ],
 "metadata": {
  "interpreter": {
   "hash": "1a244c2ee65a26931d74777612a57f1976789c49f1d475b5cc2360e699ccb534"
  },
  "kernelspec": {
   "display_name": "Python 3 (ipykernel)",
   "language": "python",
   "name": "python3"
  },
  "language_info": {
   "codemirror_mode": {
    "name": "ipython",
    "version": 3
   },
   "file_extension": ".py",
   "mimetype": "text/x-python",
   "name": "python",
   "nbconvert_exporter": "python",
   "pygments_lexer": "ipython3",
   "version": "3.9.7"
  }
 },
 "nbformat": 4,
 "nbformat_minor": 2
}
