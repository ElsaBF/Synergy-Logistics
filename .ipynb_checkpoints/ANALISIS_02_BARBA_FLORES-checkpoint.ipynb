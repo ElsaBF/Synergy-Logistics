{
 "cells": [
  {
   "cell_type": "markdown",
   "metadata": {},
   "source": [
    "Proyecto 2. Introducción al análisis de datos\n",
    "Elsa Ximena Barba Flores"
   ]
  },
  {
   "cell_type": "code",
   "execution_count": 31,
   "metadata": {},
   "outputs": [],
   "source": [
    "# Comenzamos importando la librería Pandas para análisis de datos y Seaborn para graficar\n",
    "import pandas as pd\n",
    "import seaborn as sns"
   ]
  },
  {
   "cell_type": "code",
   "execution_count": 2,
   "metadata": {},
   "outputs": [],
   "source": [
    "# Como una buena práctica se define una variable con el nombre del archivo CSV\n",
    "synergy_db = \"synergy_logistics_database.csv\""
   ]
  },
  {
   "cell_type": "code",
   "execution_count": 3,
   "metadata": {},
   "outputs": [],
   "source": [
    "# Abrimos el archivo CSV en modo lectura\n",
    "sldf = pd.read_csv(synergy_db)\n"
   ]
  },
  {
   "cell_type": "markdown",
   "metadata": {},
   "source": [
    "Opción 1: Rutas de importación y exportación.\n",
    "\n",
    "Synergy Logistics quiere saber cuáles son las diez rutas más demandadas. Para resolver esto primero hay que tener en cuénta ¿Qué es lo que consideramos como ruta? Para definir una ruta es necesario tomar en cuenta el origen y el destino (no es lo mismo una ruta de China a Japón que de Japón a China) y el medio de transporte (no es lo mismo ir de México a Estados Unidos por tierra que por mar). Se consideran por separado los productos que son de importación de los de exportación."
   ]
  },
  {
   "cell_type": "code",
   "execution_count": 4,
   "metadata": {},
   "outputs": [],
   "source": [
    "# Utilizamos el método \"groupby\" para delimitar qué columnas de la variable dataframe queremos reacomodar\n",
    "# El argumento \"by\" nos permite delimitar cuáles columnas queremos obtener como índices.\n",
    "rutas = sldf.groupby(by=['direction', 'origin', 'destination', 'transport_mode'])\n",
    "#rutas.sum()"
   ]
  },
  {
   "cell_type": "code",
   "execution_count": 5,
   "metadata": {},
   "outputs": [],
   "source": [
    "# Sumamos los valores de la columna \"total_value\"\n",
    "suma = rutas.sum()['total_value']\n",
    "# Agregamos estadísticas descriptivas a la columna \"total_value\" de la variable \"rutas\"\n",
    "rutas = rutas['total_value'].describe()\n",
    "# Añadimos la columna con la suma total\n",
    "rutas['suma_total'] = suma\n",
    "rutas = rutas.reset_index()\n",
    "#rutas"
   ]
  },
  {
   "cell_type": "markdown",
   "metadata": {},
   "source": [
    "Ahora disponemos de un dataframe que contiene columnas (índices) que nos indican si se trata de una importación o una exportación, el país de origen, destino, medio de transporte, cantidad de veces que se realizó la ruta y la suma total de los valores generados por cada ruta.\n",
    "\n",
    "Con estos datos, hacemos el análisis para las diez rutas de exportación y las diez rutas de importación más demandadas"
   ]
  },
  {
   "cell_type": "code",
   "execution_count": 6,
   "metadata": {},
   "outputs": [],
   "source": [
    "# Creamos dos df separados, uno que contenga solo las importaciones y uno que contenga solamente exportaciones\n",
    "exportaciones = rutas[rutas['direction'] == 'Exports']\n",
    "#exportaciones\n",
    "importaciones = rutas[rutas['direction'] == 'Imports']"
   ]
  },
  {
   "cell_type": "code",
   "execution_count": 7,
   "metadata": {},
   "outputs": [],
   "source": [
    "# Obtenemos un número entero que sea la suma de todos los valores de exportación\n",
    "# Y otro que contenga la suma de todos los valores de importación\n",
    "valor_total_exp = exportaciones.suma_total.sum()\n",
    "#valor_total_exp\n",
    "valor_total_imp = importaciones.suma_total.sum()"
   ]
  },
  {
   "cell_type": "code",
   "execution_count": 8,
   "metadata": {},
   "outputs": [],
   "source": [
    "# Creación de una función con argumentos dataframe y un mensaje\n",
    "def resultados(df, m):\n",
    "    total_valor = df.suma_total.sum()\n",
    "    total_usos = df['count'].sum()\n",
    "    porcentaje = (total_valor / valor_total_exp)*10000\n",
    "    porcentaje = int(porcentaje) / 100\n",
    "    print(f'Las 10 rutas {m} aportan {porcentaje}%, en un total de: {total_usos} servicios')"
   ]
  },
  {
   "cell_type": "markdown",
   "metadata": {},
   "source": [
    "Mostrando las diez rutas de exportación más demandadas"
   ]
  },
  {
   "cell_type": "code",
   "execution_count": 13,
   "metadata": {},
   "outputs": [],
   "source": [
    "mas_demandadas_exp = exportaciones.sort_values(by='count', ascending=False).head(10)\n",
    "mas_demandadas_exp = mas_demandadas_exp.reset_index()\n",
    "mayor_valor_exp = exportaciones.sort_values(by='suma_total', ascending=False).head(10)\n",
    "mayor_valor_exp = mayor_valor_exp.reset_index()\n",
    "#mas_demandadas_exp\n",
    "#mayor_valor_exp"
   ]
  },
  {
   "cell_type": "code",
   "execution_count": 14,
   "metadata": {},
   "outputs": [
    {
     "name": "stdout",
     "output_type": "stream",
     "text": [
      "Las 10 rutas mas demandadas aportan 28.13%, en un total de: 3305.0 servicios\n",
      "Las 10 rutas con mayor valor aportan 36.61%, en un total de: 2194.0 servicios\n"
     ]
    }
   ],
   "source": [
    "resultados(mas_demandadas_exp, 'mas demandadas')\n",
    "resultados(mayor_valor_exp, 'con mayor valor')"
   ]
  },
  {
   "cell_type": "markdown",
   "metadata": {},
   "source": [
    "Con la finalidad de mostrar gráficamente el resultado a continuación se grafica el valor obtenido de las rutas más demandadas contra las diez que generan mayores ganancias."
   ]
  },
  {
   "cell_type": "code",
   "execution_count": 30,
   "metadata": {},
   "outputs": [
    {
     "data": {
      "text/plain": [
       "<seaborn.axisgrid.FacetGrid at 0x7f4d03c405e0>"
      ]
     },
     "execution_count": 30,
     "metadata": {},
     "output_type": "execute_result"
    },
    {
     "data": {
      "image/png": "[encoded data removed]",
      "text/plain": [
       "<Figure size 360x360 with 1 Axes>"
      ]
     },
     "metadata": {
      "needs_background": "light"
     },
     "output_type": "display_data"
    }
   ],
   "source": [
    "sns.relplot(\n",
    "    data=mas_demandadas_exp, kind=\"line\", \n",
    "    x=\"count\", y=\"suma_total\"\n",
    ")"
   ]
  },
  {
   "cell_type": "markdown",
   "metadata": {},
   "source": [
    "Hacemos el análisis para las diez rutas de importación más demandadas"
   ]
  },
  {
   "cell_type": "markdown",
   "metadata": {},
   "source": [
    "Opción 2: Medio de transporte utilizado"
   ]
  },
  {
   "cell_type": "markdown",
   "metadata": {},
   "source": [
    "Opción 3: Valor total de importaciones y exportaciones"
   ]
  },
  {
   "cell_type": "code",
   "execution_count": null,
   "metadata": {},
   "outputs": [],
   "source": [
    "importaciones = sldb[ sldb[\"direction\"] == \"Imports\"]\n",
    "exportaciones = sldb[ sldb[\"direction\"] == \"Exports\"]  "
   ]
  },
  {
   "cell_type": "code",
   "execution_count": null,
   "metadata": {},
   "outputs": [],
   "source": [
    "prob3 = importaciones.groupby(\"origin\").sum()[\"total_value\"].sort_values(ascending=False)\n",
    "prob3"
   ]
  }
 ],
 "metadata": {
  "interpreter": {
   "hash": "1a244c2ee65a26931d74777612a57f1976789c49f1d475b5cc2360e699ccb534"
  },
  "kernelspec": {
   "display_name": "Python 3 (ipykernel)",
   "language": "python",
   "name": "python3"
  },
  "language_info": {
   "codemirror_mode": {
    "name": "ipython",
    "version": 3
   },
   "file_extension": ".py",
   "mimetype": "text/x-python",
   "name": "python",
   "nbconvert_exporter": "python",
   "pygments_lexer": "ipython3",
   "version": "3.9.7"
  }
 },
 "nbformat": 4,
 "nbformat_minor": 2
}
